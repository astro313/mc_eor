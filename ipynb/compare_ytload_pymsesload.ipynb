{
 "cells": [
  {
   "cell_type": "markdown",
   "metadata": {},
   "source": [
    "### Compare yt load versus pymses load w/ fields specified"
   ]
  },
  {
   "cell_type": "code",
   "execution_count": 1,
   "metadata": {
    "collapsed": false
   },
   "outputs": [
    {
     "name": "stdout",
     "output_type": "stream",
     "text": [
      "WARNING : Can't import tables module...\n",
      "WARNING : Can't import tables module...\n",
      "WARNING : Can't import tables module...\n",
      "WARNING : Can't import tables module...\n",
      "WARNING : Can't import Image module...\n",
      "amrviewer GUI ImportError : are WxPython and PyTables correctly installed?\n"
     ]
    }
   ],
   "source": [
    "import yt\n",
    "import pymses\n",
    "from pymses.sources.ramses import output\n",
    "\n",
    "pymses.RamsesOutput.amr_field_descrs_by_file = \\\n",
    "   {\"2D\": {\"hydro\" : [ output.Scalar(\"rho\", 0), output.Vector(\"vel\", [1, 2, 3]),\n",
    "           output.Vector(\"Bl\", [4,5,6]), output.Vector(\"Br\", [7,8,9]),\n",
    "           output.Scalar(\"P\", 10),output.Scalar(\"Z\", 11)], \n",
    "            \"grav\"  : [ output.Vector(\"g\", [0, 1, 2]) ]},\n",
    "   \"3D\": {\"hydro\" : [ output.Scalar(\"rho\", 0), output.Vector(\"vel\", [1, 2, 3]),\n",
    "                      output.Scalar(\"P_nt\", 4), output.Scalar(\"P\", 5),\n",
    "                     # P is the thermal pressure, out of which you can calculate the temperature (T \\propto P/rho)\n",
    "                     # P_nt is the non-thermal (turbulent) component\n",
    "                      output.Scalar(\"Z\", 6), \n",
    "                      output.Scalar(\"H\",8), \n",
    "                      output.Scalar(\"E\",9), \n",
    "                      output.Scalar(\"H+\",10), \n",
    "                      output.Scalar(\"HE\", 11), \n",
    "                      output.Scalar(\"HE+\",12), \n",
    "                      output.Scalar(\"HE++\", 13), \n",
    "                      output.Scalar(\"H-\", 14), \n",
    "                      output.Scalar(\"H2\", 15), \n",
    "                      output.Scalar(\"H2+\", 16)],\n",
    "       \"grav\"  : [ output.Vector(\"g\", [0, 1, 2]) ]}}"
   ]
  },
  {
   "cell_type": "code",
   "execution_count": 2,
   "metadata": {
    "collapsed": false
   },
   "outputs": [
    {
     "name": "stderr",
     "output_type": "stream",
     "text": [
      "yt : [INFO     ] 2018-07-05 13:42:59,344 Parameters: current_time              = 3.17276944493\n",
      "yt : [INFO     ] 2018-07-05 13:42:59,345 Parameters: domain_dimensions         = [256 256 256]\n",
      "yt : [INFO     ] 2018-07-05 13:42:59,346 Parameters: domain_left_edge          = [ 0.  0.  0.]\n",
      "yt : [INFO     ] 2018-07-05 13:42:59,347 Parameters: domain_right_edge         = [ 1.  1.  1.]\n",
      "yt : [INFO     ] 2018-07-05 13:42:59,348 Parameters: cosmological_simulation   = 1\n",
      "yt : [INFO     ] 2018-07-05 13:42:59,348 Parameters: current_redshift          = 5.99989573953\n",
      "yt : [INFO     ] 2018-07-05 13:42:59,349 Parameters: omega_lambda              = 0.691999971867\n",
      "yt : [INFO     ] 2018-07-05 13:42:59,350 Parameters: omega_matter              = 0.307999998331\n",
      "yt : [INFO     ] 2018-07-05 13:42:59,350 Parameters: hubble_constant           = 0.677900009155\n"
     ]
    },
    {
     "name": "stdout",
     "output_type": "stream",
     "text": [
      "Computing hilbert minimal domain description for output 28 ...\n",
      "Done !\n",
      "Warning : 17 variables found - Using default value for pymses_field_descrs.py because  [Errno 2] No such file or directory: './pymses_field_descrs.py'\n"
     ]
    }
   ],
   "source": [
    "# pymses\n",
    "ro = pymses.RamsesOutput(\"output\", 28)\n",
    "amr = ro.amr_source([\"rho\", \"H2\"])\n",
    "\n",
    "# yt\n",
    "_ds  =  yt.load(\"output/output_00028/info_00028.txt\", \\\n",
    "          fields = [\"Density\",\"x-velocity\", \"y-velocity\", \"z-velocity\", \"Pressure_nt\", \\\n",
    "                    \"Pressure\", \"Z\", \"ref\", \"H\", \"E\", \"H+\", \"HE\", \"HE+\", \"HE++\", \"H-\", \"H2\", \"H2+\"])"
   ]
  },
  {
   "cell_type": "code",
   "execution_count": 3,
   "metadata": {
    "collapsed": false
   },
   "outputs": [],
   "source": [
    "#pymses\n",
    "center = [0.5, 0.5, 0.5]\n",
    "radius = 0.1\n",
    "\n",
    "from pymses.utils.regions import Sphere \n",
    "sph = Sphere(center, radius)\n",
    "\n",
    "from pymses.filters import RegionFilter \n",
    "point_dset = RegionFilter(sph, amr)\n",
    "\n",
    "import matplotlib.pyplot as plt\n",
    "% matplotlib inline"
   ]
  },
  {
   "cell_type": "code",
   "execution_count": 4,
   "metadata": {
    "collapsed": false
   },
   "outputs": [
    {
     "name": "stdout",
     "output_type": "stream",
     "text": [
      "Read and filter time : 7.08 s\n",
      "Reading amr data  : output/output_00028/amr_00028.out00001\n",
      "Reading amr data  : output/output_00028/amr_00028.out00002\n",
      "Reading amr data  : output/output_00028/amr_00028.out00003\n",
      "Reading amr data  : output/output_00028/amr_00028.out00004\n",
      "Reading hydro     : output/output_00028/hydro_00028.out00001Reading hydro     : output/output_00028/hydro_00028.out00002Reading hydro     : output/output_00028/hydro_00028.out00003Reading hydro     : output/output_00028/hydro_00028.out00004\n",
      "\n",
      "\n",
      "\n",
      "Reading amr data  : output/output_00028/amr_00028.out00007Reading amr data  : output/output_00028/amr_00028.out00006Reading amr data  : output/output_00028/amr_00028.out00005Reading amr data  : output/output_00028/amr_00028.out00008\n",
      "\n",
      "\n",
      "\n",
      "Reading hydro     : output/output_00028/hydro_00028.out00007Reading hydro     : output/output_00028/hydro_00028.out00006Reading hydro     : output/output_00028/hydro_00028.out00005Reading hydro     : output/output_00028/hydro_00028.out00008\n",
      "\n",
      "\n",
      "\n",
      "Reading amr data  : output/output_00028/amr_00028.out00009Reading amr data  : output/output_00028/amr_00028.out00011Reading amr data  : output/output_00028/amr_00028.out00010Reading amr data  : output/output_00028/amr_00028.out00014\n",
      "\n",
      "\n",
      "\n",
      "Reading hydro     : output/output_00028/hydro_00028.out00009Reading hydro     : output/output_00028/hydro_00028.out00011Reading hydro     : output/output_00028/hydro_00028.out00010Reading hydro     : output/output_00028/hydro_00028.out00014\n",
      "\n",
      "\n",
      "\n",
      "Reading amr data  : output/output_00028/amr_00028.out00012Reading amr data  : output/output_00028/amr_00028.out00015Reading amr data  : output/output_00028/amr_00028.out00013Reading amr data  : output/output_00028/amr_00028.out00018\n",
      "\n",
      "\n",
      "\n",
      "Reading hydro     : output/output_00028/hydro_00028.out00012Reading hydro     : output/output_00028/hydro_00028.out00015Reading hydro     : output/output_00028/hydro_00028.out00013Reading hydro     : output/output_00028/hydro_00028.out00018\n",
      "\n",
      "\n",
      "\n",
      "Reading amr data  : output/output_00028/amr_00028.out00019Reading amr data  : output/output_00028/amr_00028.out00017Reading amr data  : output/output_00028/amr_00028.out00016\n",
      "\n",
      "\n",
      "Reading hydro     : output/output_00028/hydro_00028.out00019Reading hydro     : output/output_00028/hydro_00028.out00017Reading hydro     : output/output_00028/hydro_00028.out00016\n",
      "\n",
      "\n",
      "Reading amr data  : output/output_00028/amr_00028.out00020\n",
      "Reading hydro     : output/output_00028/hydro_00028.out00020\n"
     ]
    },
    {
     "name": "stderr",
     "output_type": "stream",
     "text": [
      "/Users/admin/Research/pymses_4.0.0/pymses/sources/ramses/octree.py:362: FutureWarning: comparison to `None` will result in an elementwise object comparison in the future.\n",
      "  if self.active_mask == None:\n",
      "/Users/admin/Research/pymses_4.0.0/pymses/sources/ramses/octree.py:362: FutureWarning: comparison to `None` will result in an elementwise object comparison in the future.\n",
      "  if self.active_mask == None:\n",
      "/Users/admin/Research/pymses_4.0.0/pymses/sources/ramses/octree.py:362: FutureWarning: comparison to `None` will result in an elementwise object comparison in the future.\n",
      "  if self.active_mask == None:\n",
      "/Users/admin/Research/pymses_4.0.0/pymses/sources/ramses/octree.py:362: FutureWarning: comparison to `None` will result in an elementwise object comparison in the future.\n",
      "  if self.active_mask == None:\n"
     ]
    }
   ],
   "source": [
    "from pymses.filters import RegionFilter, CellsToPoints\n",
    "\n",
    "amr_cell = CellsToPoints(point_dset).flatten()"
   ]
  },
  {
   "cell_type": "code",
   "execution_count": 5,
   "metadata": {
    "collapsed": false
   },
   "outputs": [
    {
     "data": {
      "text/plain": [
       "array([  1.48893191e-17,   1.88308263e-17,   1.62484160e-17, ...,\n",
       "         1.40303748e-08,   1.40303748e-08,   1.40303748e-08])"
      ]
     },
     "execution_count": 5,
     "metadata": {},
     "output_type": "execute_result"
    }
   ],
   "source": [
    "amr_cell['H2']"
   ]
  },
  {
   "cell_type": "code",
   "execution_count": 6,
   "metadata": {
    "collapsed": false
   },
   "outputs": [
    {
     "data": {
      "image/png": "[encoded data removed]",
      "text/plain": [
       "<Figure size 600x400 with 1 Axes>"
      ]
     },
     "metadata": {},
     "output_type": "display_data"
    }
   ],
   "source": [
    "plt.hist(amr_cell['H2'] * amr_cell['rho'])\n",
    "plt.show();"
   ]
  },
  {
   "cell_type": "code",
   "execution_count": 7,
   "metadata": {
    "collapsed": false
   },
   "outputs": [],
   "source": [
    "# yt\n",
    "sp = _ds.sphere(center, radius)\n",
    "\n",
    "yt_cell = sp['Density'] * sp['H2'] \n"
   ]
  },
  {
   "cell_type": "code",
   "execution_count": 8,
   "metadata": {
    "collapsed": false
   },
   "outputs": [
    {
     "data": {
      "text/plain": [
       "YTArray([  1.94209178e-19,   1.83722020e-19,   2.00898066e-19, ...,\n",
       "         2.88346482e-18,   4.06132030e-18,   3.08400027e-18]) code_density"
      ]
     },
     "execution_count": 8,
     "metadata": {},
     "output_type": "execute_result"
    }
   ],
   "source": [
    "yt_cell"
   ]
  },
  {
   "cell_type": "code",
   "execution_count": 9,
   "metadata": {
    "collapsed": false
   },
   "outputs": [],
   "source": [
    "yt_cell = yt_cell.flatten()"
   ]
  },
  {
   "cell_type": "code",
   "execution_count": 10,
   "metadata": {
    "collapsed": false
   },
   "outputs": [],
   "source": [
    "import numpy as np\n",
    "yt_cell = np.array(yt_cell)"
   ]
  },
  {
   "cell_type": "code",
   "execution_count": 11,
   "metadata": {
    "collapsed": false
   },
   "outputs": [
    {
     "data": {
      "image/png": "[encoded data removed]",
      "text/plain": [
       "<Figure size 600x400 with 1 Axes>"
      ]
     },
     "metadata": {},
     "output_type": "display_data"
    }
   ],
   "source": [
    "plt.hist(yt_cell)\n",
    "plt.show();"
   ]
  },
  {
   "cell_type": "code",
   "execution_count": 12,
   "metadata": {
    "collapsed": false
   },
   "outputs": [
    {
     "name": "stdout",
     "output_type": "stream",
     "text": [
      "0.0 246430.753196\n",
      "0.0 246430.753196\n"
     ]
    }
   ],
   "source": [
    "print yt_cell.min(), yt_cell.max()\n",
    "\n",
    "amr_cell_h2 = amr_cell['H2'] * amr_cell['rho']\n",
    "print amr_cell_h2.min(), amr_cell_h2.max()\n"
   ]
  },
  {
   "cell_type": "markdown",
   "metadata": {},
   "source": [
    "### Q: rho * H2 from yt and pymses are not identical?\n",
    "\n",
    "A: this was fixed, after we included the \"ref field\" in field #7, which we previously skipped because it contains structure of the AMR, and we didn't care."
   ]
  },
  {
   "cell_type": "code",
   "execution_count": null,
   "metadata": {
    "collapsed": true
   },
   "outputs": [],
   "source": []
  }
 ],
 "metadata": {
  "kernelspec": {
   "display_name": "Python 2",
   "language": "python",
   "name": "python2"
  },
  "language_info": {
   "codemirror_mode": {
    "name": "ipython",
    "version": 2
   },
   "file_extension": ".py",
   "mimetype": "text/x-python",
   "name": "python",
   "nbconvert_exporter": "python",
   "pygments_lexer": "ipython2",
   "version": "2.7.12"
  }
 },
 "nbformat": 4,
 "nbformat_minor": 0
}
