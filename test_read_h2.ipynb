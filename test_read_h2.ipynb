{
 "cells": [
  {
   "cell_type": "markdown",
   "metadata": {},
   "source": [
    "# Try reading in f_H2 from the RAMSES sim output"
   ]
  },
  {
   "cell_type": "code",
   "execution_count": 2,
   "metadata": {
    "collapsed": false
   },
   "outputs": [
    {
     "name": "stdout",
     "output_type": "stream",
     "text": [
      "WARNING : Can't import tables module...\n",
      "WARNING : Can't import tables module...\n",
      "WARNING : Can't import tables module...\n",
      "WARNING : Can't import tables module...\n",
      "WARNING : Can't import Image module...\n",
      "amrviewer GUI ImportError : are WxPython and PyTables correctly installed?\n"
     ]
    }
   ],
   "source": [
    "import pymses\n",
    "from pymses.sources.ramses import output\n",
    "\n",
    "pymses.RamsesOutput.amr_field_descrs_by_file = \\\n",
    "   {\"2D\": {\"hydro\" : [ output.Scalar(\"rho\", 0), output.Vector(\"vel\", [1, 2, 3]),\n",
    "           output.Vector(\"Bl\", [4,5,6]), output.Vector(\"Br\", [7,8,9]),\n",
    "           output.Scalar(\"P\", 10),output.Scalar(\"Z\", 11)], \n",
    "            \"grav\"  : [ output.Vector(\"g\", [0, 1, 2]) ]},\n",
    "   \"3D\": {\"hydro\" : [ output.Scalar(\"rho\", 0), output.Vector(\"vel\", [1, 2, 3]),\n",
    "                      output.Scalar(\"P_nt\", 4), output.Scalar(\"P\", 5),\n",
    "                      output.Scalar(\"Z\", 6), \n",
    "                      output.Scalar(\"H\",8), \n",
    "                      output.Scalar(\"E\",9), \n",
    "                      output.Scalar(\"H+\",10), \n",
    "                      output.Scalar(\"HE\", 11), \n",
    "                      output.Scalar(\"HE+\",12), \n",
    "                      output.Scalar(\"HE++\", 13), \n",
    "                      output.Scalar(\"H-\", 14), \n",
    "                      output.Scalar(\"H2\", 15), \n",
    "                      output.Scalar(\"H2+\", 16)],\n",
    "       \"grav\"  : [ output.Vector(\"g\", [0, 1, 2]) ]}}"
   ]
  },
  {
   "cell_type": "code",
   "execution_count": 3,
   "metadata": {
    "collapsed": false
   },
   "outputs": [
    {
     "name": "stdout",
     "output_type": "stream",
     "text": [
      "Computing hilbert minimal domain description for output 28 ...\n",
      "Done !\n",
      "Warning : 17 variables found - Using default value for pymses_field_descrs.py because  [Errno 2] No such file or directory: './pymses_field_descrs.py'\n"
     ]
    }
   ],
   "source": [
    "ro = pymses.RamsesOutput(\"output\", 28)"
   ]
  },
  {
   "cell_type": "code",
   "execution_count": 4,
   "metadata": {
    "collapsed": true
   },
   "outputs": [],
   "source": [
    "amr = ro.amr_source([\"rho\", \"H2\"])"
   ]
  },
  {
   "cell_type": "code",
   "execution_count": 7,
   "metadata": {
    "collapsed": false
   },
   "outputs": [
    {
     "data": {
      "text/plain": [
       "{'H0': 67.7900009155273,\n",
       " 'aexp': 0.142859270653536,\n",
       " 'boxlen': 1.0,\n",
       " 'dom_decomp': <pymses.sources.ramses.hilbert.HilbertDomainDecomp at 0x10481ce90>,\n",
       " 'dom_decomp_Hilbert_keys': array([  0.00000000e+00,   2.78507369e+15,   5.56949132e+15,\n",
       "          8.31445109e+15,   9.90062483e+15,   1.10877759e+16,\n",
       "          1.31167380e+16,   1.31170099e+16,   1.31170510e+16,\n",
       "          1.31170643e+16,   1.31170680e+16,   1.31170689e+16,\n",
       "          1.31171029e+16,   1.31172443e+16,   1.31172785e+16,\n",
       "          1.31172793e+16,   1.31172793e+16,   1.39039160e+16,\n",
       "          1.39043360e+16,   1.59558003e+16,   1.80143985e+16]),\n",
       " 'levelmax': 17,\n",
       " 'levelmin': 8,\n",
       " 'ncpu': 20,\n",
       " 'ndim': 3,\n",
       " 'ngridmax': 10000000,\n",
       " 'nstep_coarse': 3040,\n",
       " 'omega_b': 0.0450000017881393,\n",
       " 'omega_k': 2.98023223876953e-08,\n",
       " 'omega_l': 0.691999971866608,\n",
       " 'omega_m': 0.30799999833107,\n",
       " 'ordering': 'hilbert',\n",
       " 'time': -5.42775606861807,\n",
       " 'unit_density': (9.12671643381e-25 m^-3.kg),\n",
       " 'unit_length': (1.29814589144e+23 m),\n",
       " 'unit_mag': (1.49928356366e-08 T),\n",
       " 'unit_mass': (1.99657241598e+45 kg),\n",
       " 'unit_pressure': (1.78878315246e-10 m^-1.kg.s^-2),\n",
       " 'unit_temperature': (23565003227.5 K),\n",
       " 'unit_time': (9.27260871559e+15 s),\n",
       " 'unit_velocity': (13999791.5501 m.s^-1)}"
      ]
     },
     "execution_count": 7,
     "metadata": {},
     "output_type": "execute_result"
    }
   ],
   "source": [
    "ro.info"
   ]
  },
  {
   "cell_type": "code",
   "execution_count": 9,
   "metadata": {
    "collapsed": false
   },
   "outputs": [
    {
     "name": "stdout",
     "output_type": "stream",
     "text": [
      "4.20700511246\n"
     ]
    }
   ],
   "source": [
    "from pymses.utils import constants as C\n",
    "print ro.info['unit_length'].express(C.Mpc)"
   ]
  },
  {
   "cell_type": "markdown",
   "metadata": {
    "collapsed": false
   },
   "source": [
    "## Just going to assume it's a galactic disk for now"
   ]
  },
  {
   "cell_type": "code",
   "execution_count": 5,
   "metadata": {
    "collapsed": false
   },
   "outputs": [
    {
     "name": "stdout",
     "output_type": "stream",
     "text": [
      "PyMSES camera parameter csv file (this ordering is still required)\r",
      "\r\n",
      "center,\"[0.53103, 0.51031000000000004, 0.50402000000000002]\"\r",
      "\r\n",
      "line_of_sight_axis,\"[0.85882976970482816, 0.49834986636750128, -0.11856996820546729]\"\r",
      "\r\n",
      "up_vector,\"[0.10255487134299716, 0.059509123032244614, 0.99294569974382518]\"\r",
      "\r\n",
      "region_size,\"[0.0015, 0.0015]\"\r",
      "\r\n",
      "distance,0.00075\r",
      "\r\n",
      "far_cut_depth,0.00075\r",
      "\r\n",
      "map_max_size,256\r",
      "\r\n",
      "log_sensitive,True\r",
      "\r\n",
      "perspectiveAngle,0\r",
      "\r\n"
     ]
    }
   ],
   "source": [
    "!cat output/output_00028/*csv"
   ]
  },
  {
   "cell_type": "code",
   "execution_count": 12,
   "metadata": {
    "collapsed": false
   },
   "outputs": [
    {
     "name": "stdout",
     "output_type": "stream",
     "text": [
      "6.31050766869\n"
     ]
    }
   ],
   "source": [
    "# in box unit\n",
    "center = [0.53103, 0.51031000000000004, 0.50402000000000002]\n",
    "gal_radius = 0.0015\n",
    "print gal_radius * ro.info['unit_length'].express(C.kpc)\n",
    "\n",
    "gal_thickn = gal_radius/2.\n",
    "gal_normal = [0.10255487134299716, 0.059509123032244614, 0.99294569974382518]"
   ]
  },
  {
   "cell_type": "markdown",
   "metadata": {},
   "source": [
    "# random sampling the AMR data field in a given region"
   ]
  },
  {
   "cell_type": "code",
   "execution_count": 13,
   "metadata": {
    "collapsed": true
   },
   "outputs": [],
   "source": [
    "from pymses.utils.regions import Cylinder\n",
    "cyl = Cylinder(center, gal_normal, gal_radius, gal_thickn)"
   ]
  },
  {
   "cell_type": "markdown",
   "metadata": {},
   "source": [
    "## generation of an array of 1E6 random points uniformaly spread w/in the cylinder, then sample the AMR field at these coord"
   ]
  },
  {
   "cell_type": "code",
   "execution_count": 16,
   "metadata": {
    "collapsed": true
   },
   "outputs": [],
   "source": [
    "cyl.random_points?"
   ]
  },
  {
   "cell_type": "code",
   "execution_count": 17,
   "metadata": {
    "collapsed": false
   },
   "outputs": [
    {
     "name": "stdout",
     "output_type": "stream",
     "text": [
      "Reading amr data  : output/output_00028/amr_00028.out00009\n",
      "Reading hydro     : output/output_00028/hydro_00028.out00009\n",
      "Reading amr data  : output/output_00028/amr_00028.out00010\n",
      "Reading hydro     : output/output_00028/hydro_00028.out00010\n",
      "Reading amr data  : output/output_00028/amr_00028.out00011\n",
      "Reading hydro     : output/output_00028/hydro_00028.out00011\n",
      "Reading amr data  : output/output_00028/amr_00028.out00012\n",
      "Reading hydro     : output/output_00028/hydro_00028.out00012\n",
      "Reading amr data  : output/output_00028/amr_00028.out00014\n",
      "Reading hydro     : output/output_00028/hydro_00028.out00014\n",
      "Reading amr data  : output/output_00028/amr_00028.out00015\n",
      "Reading hydro     : output/output_00028/hydro_00028.out00015\n",
      "Reading amr data  : output/output_00028/amr_00028.out00016\n",
      "Reading hydro     : output/output_00028/hydro_00028.out00016\n",
      "Reading amr data  : output/output_00028/amr_00028.out00017\n",
      "Reading hydro     : output/output_00028/hydro_00028.out00017\n"
     ]
    },
    {
     "name": "stderr",
     "output_type": "stream",
     "text": [
      "/Users/admin/Research/pymses_4.0.0/pymses/sources/ramses/octree.py:162: FutureWarning: comparison to `None` will result in an elementwise object comparison in the future.\n",
      "  if big_scalars_array == None:\n"
     ]
    }
   ],
   "source": [
    "import numpy as np\n",
    "from pymses.analysis import sample_points\n",
    "\n",
    "points = cyl.random_points(int(1e6))\n",
    "point_dset = sample_points(amr, points)"
   ]
  },
  {
   "cell_type": "code",
   "execution_count": 18,
   "metadata": {
    "collapsed": false
   },
   "outputs": [
    {
     "data": {
      "text/plain": [
       "array([[ 0.53187114,  0.51083888,  0.50378949],\n",
       "       [ 0.53245033,  0.5106047 ,  0.5036069 ],\n",
       "       [ 0.53029629,  0.50977942,  0.50420622],\n",
       "       ..., \n",
       "       [ 0.5311427 ,  0.5109262 ,  0.50402744],\n",
       "       [ 0.52985199,  0.50974076,  0.50420038],\n",
       "       [ 0.53211878,  0.51050834,  0.50416841]])"
      ]
     },
     "execution_count": 18,
     "metadata": {},
     "output_type": "execute_result"
    }
   ],
   "source": [
    "point_dset.points"
   ]
  },
  {
   "cell_type": "code",
   "execution_count": 19,
   "metadata": {
    "collapsed": false
   },
   "outputs": [
    {
     "data": {
      "text/plain": [
       "array([ 158.37755712,    0.3635653 ,   30.60881345, ...,   68.6759018 ,\n",
       "          1.69623628,   65.67769399])"
      ]
     },
     "execution_count": 19,
     "metadata": {},
     "output_type": "execute_result"
    }
   ],
   "source": [
    "point_dset['rho']"
   ]
  },
  {
   "cell_type": "code",
   "execution_count": 20,
   "metadata": {
    "collapsed": true
   },
   "outputs": [],
   "source": [
    "import numpy as np\n",
    "rho_weight_func = lambda dset: dset['rho']\n",
    "r_bins = np.linspace(0, gal_radius, 200)          # 200 linearly spaced radial bins w/in cylinder radius"
   ]
  },
  {
   "cell_type": "code",
   "execution_count": 22,
   "metadata": {
    "collapsed": true
   },
   "outputs": [],
   "source": [
    "from pymses.analysis import bin_cylindrical\n",
    "\n",
    "rho_profile = bin_cylindrical(point_dset, center, gal_normal, rho_weight_func, r_bins, divide_by_counts=True)  \n",
    "# True becuase we're averaging the density field in each shell"
   ]
  },
  {
   "cell_type": "code",
   "execution_count": 26,
   "metadata": {
    "collapsed": false
   },
   "outputs": [],
   "source": [
    "%matplotlib inline"
   ]
  },
  {
   "cell_type": "code",
   "execution_count": 28,
   "metadata": {
    "collapsed": false
   },
   "outputs": [
    {
     "data": {
      "text/plain": [
       "[<matplotlib.lines.Line2D at 0x619e56890>]"
      ]
     },
     "execution_count": 28,
     "metadata": {},
     "output_type": "execute_result"
    },
    {
     "data": {
      "image/png": "[encoded data removed]",
      "text/plain": [
       "<matplotlib.figure.Figure at 0x619e15550>"
      ]
     },
     "metadata": {},
     "output_type": "display_data"
    }
   ],
   "source": [
    "import pylab as plt\n",
    "plt.plot(r_bins[1:], np.log10(rho_profile))"
   ]
  },
  {
   "cell_type": "code",
   "execution_count": 31,
   "metadata": {
    "collapsed": false
   },
   "outputs": [
    {
     "data": {
      "text/plain": [
       "<matplotlib.text.Text at 0x619f324d0>"
      ]
     },
     "execution_count": 31,
     "metadata": {},
     "output_type": "execute_result"
    },
    {
     "data": {
      "image/png": "[encoded data removed]",
      "text/plain": [
       "<matplotlib.figure.Figure at 0x619f59410>"
      ]
     },
     "metadata": {},
     "output_type": "display_data"
    }
   ],
   "source": [
    "plt.plot(r_bins[:-1], np.log10(rho_profile))\n",
    "plt.ylabel(r'$\\rho$ (code unit)')\n",
    "plt.xlabel('r (code unit)')"
   ]
  },
  {
   "cell_type": "markdown",
   "metadata": {},
   "source": [
    "# Repeat for H2 density"
   ]
  },
  {
   "cell_type": "code",
   "execution_count": 36,
   "metadata": {
    "collapsed": false
   },
   "outputs": [
    {
     "data": {
      "text/plain": [
       "<matplotlib.text.Text at 0x622d7d050>"
      ]
     },
     "execution_count": 36,
     "metadata": {},
     "output_type": "execute_result"
    },
    {
     "data": {
      "image/png": "[encoded data removed]",
      "text/plain": [
       "<matplotlib.figure.Figure at 0x622e94a10>"
      ]
     },
     "metadata": {},
     "output_type": "display_data"
    }
   ],
   "source": [
    "import numpy as np\n",
    "rho_weight_func = lambda dset: dset['H2'] * dset['rho']\n",
    "\n",
    "rho_profile = bin_cylindrical(point_dset, center, gal_normal, rho_weight_func, r_bins, divide_by_counts=True)  \n",
    "# True becuase we're averaging the density field in each shell\n",
    "\n",
    "plt.plot(r_bins[:-1]* ro.info['unit_length'].express(C.kpc), np.log10(rho_profile))\n",
    "# * ro.info[\"unit_density\"].express(C.H_cc)\n",
    "plt.ylabel(r'$\\rho$ (code unit)')    \n",
    "plt.xlabel('r (kpc)')"
   ]
  },
  {
   "cell_type": "code",
   "execution_count": 37,
   "metadata": {
    "collapsed": false
   },
   "outputs": [
    {
     "data": {
      "text/plain": [
       "0.00041784966805415413"
      ]
     },
     "execution_count": 37,
     "metadata": {},
     "output_type": "execute_result"
    }
   ],
   "source": [
    "ro.info[\"unit_density\"].express(C.H_cc)"
   ]
  },
  {
   "cell_type": "code",
   "execution_count": 38,
   "metadata": {
    "collapsed": true
   },
   "outputs": [],
   "source": [
    "C.H_cc?"
   ]
  },
  {
   "cell_type": "code",
   "execution_count": null,
   "metadata": {
    "collapsed": true
   },
   "outputs": [],
   "source": []
  }
 ],
 "metadata": {
  "kernelspec": {
   "display_name": "Python 2",
   "language": "python",
   "name": "python2"
  },
  "language_info": {
   "codemirror_mode": {
    "name": "ipython",
    "version": 2
   },
   "file_extension": ".py",
   "mimetype": "text/x-python",
   "name": "python",
   "nbconvert_exporter": "python",
   "pygments_lexer": "ipython2",
   "version": "2.7.12"
  }
 },
 "nbformat": 4,
 "nbformat_minor": 0
}
