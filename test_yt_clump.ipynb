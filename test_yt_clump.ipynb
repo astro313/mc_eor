{
 "cells": [
  {
   "cell_type": "markdown",
   "metadata": {},
   "source": [
    "The yt clump finder was initially described in \n",
    "http://adsabs.harvard.edu/abs/2009ApJ...691..441S , but it's changed \n",
    "since then.  What it does now is decompose into non-overlapping tiles \n",
    "(stored in a kd-tree), identify contours within a tile, and then \n",
    "connect them across tiles.  It does this with an upper and lower bound \n",
    "on a field value, and looking for topologically connected sets. \n",
    "\n",
    "With yt, connected sets can be identified. This enables the location and analysis of **a hierarchy of\n",
    "clumps**; in star formation, for instance, this allows the construction of diagrams **describing the density\n",
    "at which fragmentation occurs**."
   ]
  },
  {
   "cell_type": "code",
   "execution_count": 1,
   "metadata": {
    "collapsed": false
   },
   "outputs": [
    {
     "name": "stderr",
     "output_type": "stream",
     "text": [
      "yt : [INFO     ] 2018-07-03 13:40:09,567 Parameters: current_time              = 3.17276944493\n",
      "yt : [INFO     ] 2018-07-03 13:40:09,568 Parameters: domain_dimensions         = [256 256 256]\n",
      "yt : [INFO     ] 2018-07-03 13:40:09,569 Parameters: domain_left_edge          = [ 0.  0.  0.]\n",
      "yt : [INFO     ] 2018-07-03 13:40:09,571 Parameters: domain_right_edge         = [ 1.  1.  1.]\n",
      "yt : [INFO     ] 2018-07-03 13:40:09,572 Parameters: cosmological_simulation   = 1\n",
      "yt : [INFO     ] 2018-07-03 13:40:09,573 Parameters: current_redshift          = 5.99989573953\n",
      "yt : [INFO     ] 2018-07-03 13:40:09,574 Parameters: omega_lambda              = 0.691999971867\n",
      "yt : [INFO     ] 2018-07-03 13:40:09,574 Parameters: omega_matter              = 0.307999998331\n",
      "yt : [INFO     ] 2018-07-03 13:40:09,575 Parameters: hubble_constant           = 0.677900009155\n"
     ]
    }
   ],
   "source": [
    "import numpy as np\n",
    "\n",
    "import yt\n",
    "from yt.analysis_modules.level_sets.api import *\n",
    "\n",
    "ds = yt.load(\"output/output_00028/info_00028.txt\")"
   ]
  },
  {
   "cell_type": "code",
   "execution_count": 5,
   "metadata": {
    "collapsed": false
   },
   "outputs": [
    {
     "name": "stdout",
     "output_type": "stream",
     "text": [
      "PyMSES camera parameter csv file (this ordering is still required)\r",
      "\r\n",
      "center,\"[0.53103, 0.51031000000000004, 0.50402000000000002]\"\r",
      "\r\n",
      "line_of_sight_axis,\"[0.85882976970482816, 0.49834986636750128, -0.11856996820546729]\"\r",
      "\r\n",
      "up_vector,\"[0.10255487134299716, 0.059509123032244614, 0.99294569974382518]\"\r",
      "\r\n",
      "region_size,\"[0.0015, 0.0015]\"\r",
      "\r\n",
      "distance,0.00075\r",
      "\r\n",
      "far_cut_depth,0.00075\r",
      "\r\n",
      "map_max_size,256\r",
      "\r\n",
      "log_sensitive,True\r",
      "\r\n",
      "perspectiveAngle,0\r",
      "\r\n"
     ]
    }
   ],
   "source": [
    "!cat output/output_00028/*csv"
   ]
  },
  {
   "cell_type": "code",
   "execution_count": 17,
   "metadata": {
    "collapsed": true
   },
   "outputs": [],
   "source": [
    "center = [0.53103, 0.51031000000000004, 0.50402000000000002]\n",
    "region_size = 0.0015\n",
    "up_vector = [0.10255487134299716, 0.059509123032244614, 0.99294569974382518]\n",
    "\n",
    "distance = 0.00075\n",
    "far_cut_depth = 0.00075\n",
    "\n",
    "data_source = ds.sphere(center, region_size)"
   ]
  },
  {
   "cell_type": "code",
   "execution_count": 4,
   "metadata": {
    "collapsed": false
   },
   "outputs": [
    {
     "data": {
      "text/plain": [
       "(3.17276944493 code_time, 5.99989573952965)"
      ]
     },
     "execution_count": 4,
     "metadata": {},
     "output_type": "execute_result"
    }
   ],
   "source": [
    "ds.current_time, ds.current_redshift"
   ]
  },
  {
   "cell_type": "code",
   "execution_count": 9,
   "metadata": {
    "collapsed": true
   },
   "outputs": [],
   "source": [
    "data_source.get_field_parameter?"
   ]
  },
  {
   "cell_type": "code",
   "execution_count": 7,
   "metadata": {
    "collapsed": false
   },
   "outputs": [
    {
     "ename": "TypeError",
     "evalue": "'YTSphere' object is not callable",
     "output_type": "error",
     "traceback": [
      "\u001b[0;31m---------------------------------------------------------------------------\u001b[0m",
      "\u001b[0;31mTypeError\u001b[0m                                 Traceback (most recent call last)",
      "\u001b[0;32m<ipython-input-7-79464ca035c7>\u001b[0m in \u001b[0;36m<module>\u001b[0;34m()\u001b[0m\n\u001b[0;32m----> 1\u001b[0;31m \u001b[0;32mprint\u001b[0m\u001b[0;34m(\u001b[0m\u001b[0mdata_source\u001b[0m\u001b[0;34m(\u001b[0m\u001b[0;34m[\u001b[0m\u001b[0;34m\"density\"\u001b[0m\u001b[0;34m]\u001b[0m\u001b[0;34m)\u001b[0m\u001b[0;34m)\u001b[0m\u001b[0;34m\u001b[0m\u001b[0m\n\u001b[0m\u001b[1;32m      2\u001b[0m \u001b[0;34m\u001b[0m\u001b[0m\n\u001b[1;32m      3\u001b[0m \u001b[0msp\u001b[0m \u001b[0;34m=\u001b[0m \u001b[0mdata_source\u001b[0m\u001b[0;34m\u001b[0m\u001b[0m\n\u001b[1;32m      4\u001b[0m \u001b[0;34m\u001b[0m\u001b[0m\n\u001b[1;32m      5\u001b[0m \u001b[0;31m# Print things in a more human-friendly manner: one density at a time\u001b[0m\u001b[0;34m\u001b[0m\u001b[0;34m\u001b[0m\u001b[0m\n",
      "\u001b[0;31mTypeError\u001b[0m: 'YTSphere' object is not callable"
     ]
    }
   ],
   "source": [
    "print(data_source([\"density\"]))\n",
    "\n",
    "sp = data_source\n",
    "\n",
    "# Print things in a more human-friendly manner: one density at a time\n",
    "print(\"(x,  y,  z) Density\")\n",
    "print(\"-----------------------\")\n",
    "for i in range(sp[\"density\"].size):\n",
    "    print(\"(%f,  %f,  %f)    %f\" %\n",
    "          (sp[\"x\"][i], sp[\"y\"][i], sp[\"z\"][i], sp[\"density\"][i]))"
   ]
  },
  {
   "cell_type": "code",
   "execution_count": 12,
   "metadata": {
    "collapsed": false
   },
   "outputs": [],
   "source": [
    "xx = ds.all_data()"
   ]
  },
  {
   "cell_type": "code",
   "execution_count": 13,
   "metadata": {
    "collapsed": false
   },
   "outputs": [
    {
     "data": {
      "text/plain": [
       "YTArray([  1.44444555e-28,   8.29987137e-29,   1.04603599e-28, ...,\n",
       "         8.99843109e-29,   1.12373516e-28,   9.79495090e-29]) g/cm**3"
      ]
     },
     "execution_count": 13,
     "metadata": {},
     "output_type": "execute_result"
    }
   ],
   "source": [
    "xx['density']"
   ]
  },
  {
   "cell_type": "code",
   "execution_count": 14,
   "metadata": {
    "collapsed": true
   },
   "outputs": [],
   "source": [
    "data_source.get_data?"
   ]
  },
  {
   "cell_type": "markdown",
   "metadata": {},
   "source": [
    "# assuming it's disk"
   ]
  },
  {
   "cell_type": "code",
   "execution_count": 15,
   "metadata": {
    "collapsed": true
   },
   "outputs": [],
   "source": [
    "ds.disk?\n",
    "# center, normal, radius, height, "
   ]
  },
  {
   "cell_type": "code",
   "execution_count": 20,
   "metadata": {
    "collapsed": false
   },
   "outputs": [
    {
     "name": "stderr",
     "output_type": "stream",
     "text": [
      "yt : [INFO     ] 2018-07-03 13:49:36,253 Finding clumps: min: 1.000000e-28, max: 1.000000e-20, step: 2.000000\n"
     ]
    },
    {
     "ename": "RuntimeError",
     "evalue": "AMRKDTree does not support particle or octree-based data.",
     "output_type": "error",
     "traceback": [
      "\u001b[0;31m---------------------------------------------------------------------------\u001b[0m",
      "\u001b[0;31mRuntimeError\u001b[0m                              Traceback (most recent call last)",
      "\u001b[0;32m<ipython-input-20-2d69bb87eca7>\u001b[0m in \u001b[0;36m<module>\u001b[0;34m()\u001b[0m\n\u001b[1;32m      9\u001b[0m \u001b[0mmaster_clump\u001b[0m\u001b[0;34m.\u001b[0m\u001b[0madd_validator\u001b[0m\u001b[0;34m(\u001b[0m\u001b[0;34m\"min_cells\"\u001b[0m\u001b[0;34m,\u001b[0m \u001b[0;36m20\u001b[0m\u001b[0;34m)\u001b[0m\u001b[0;34m\u001b[0m\u001b[0m\n\u001b[1;32m     10\u001b[0m \u001b[0;34m\u001b[0m\u001b[0m\n\u001b[0;32m---> 11\u001b[0;31m \u001b[0mfind_clumps\u001b[0m\u001b[0;34m(\u001b[0m\u001b[0mmaster_clump\u001b[0m\u001b[0;34m,\u001b[0m \u001b[0mc_min\u001b[0m\u001b[0;34m,\u001b[0m \u001b[0mc_max\u001b[0m\u001b[0;34m,\u001b[0m \u001b[0;36m2.0\u001b[0m\u001b[0;34m)\u001b[0m\u001b[0;34m\u001b[0m\u001b[0m\n\u001b[0m\u001b[1;32m     12\u001b[0m \u001b[0mleaf_clumps\u001b[0m \u001b[0;34m=\u001b[0m \u001b[0mget_lowest_clumps\u001b[0m\u001b[0;34m(\u001b[0m\u001b[0mmaster_clump\u001b[0m\u001b[0;34m)\u001b[0m\u001b[0;34m\u001b[0m\u001b[0m\n\u001b[1;32m     13\u001b[0m \u001b[0;34m\u001b[0m\u001b[0m\n",
      "\u001b[0;32m/Users/admin/anaconda/lib/python2.7/site-packages/yt/analysis_modules/level_sets/clump_handling.pyc\u001b[0m in \u001b[0;36mfind_clumps\u001b[0;34m(clump, min_val, max_val, d_clump)\u001b[0m\n\u001b[1;32m    433\u001b[0m                (min_val, max_val, d_clump))\n\u001b[1;32m    434\u001b[0m     \u001b[0;32mif\u001b[0m \u001b[0mmin_val\u001b[0m \u001b[0;34m>=\u001b[0m \u001b[0mmax_val\u001b[0m\u001b[0;34m:\u001b[0m \u001b[0;32mreturn\u001b[0m\u001b[0;34m\u001b[0m\u001b[0m\n\u001b[0;32m--> 435\u001b[0;31m     \u001b[0mclump\u001b[0m\u001b[0;34m.\u001b[0m\u001b[0mfind_children\u001b[0m\u001b[0;34m(\u001b[0m\u001b[0mmin_val\u001b[0m\u001b[0;34m)\u001b[0m\u001b[0;34m\u001b[0m\u001b[0m\n\u001b[0m\u001b[1;32m    436\u001b[0m \u001b[0;34m\u001b[0m\u001b[0m\n\u001b[1;32m    437\u001b[0m     \u001b[0;32mif\u001b[0m \u001b[0;34m(\u001b[0m\u001b[0mlen\u001b[0m\u001b[0;34m(\u001b[0m\u001b[0mclump\u001b[0m\u001b[0;34m.\u001b[0m\u001b[0mchildren\u001b[0m\u001b[0;34m)\u001b[0m \u001b[0;34m==\u001b[0m \u001b[0;36m1\u001b[0m\u001b[0;34m)\u001b[0m\u001b[0;34m:\u001b[0m\u001b[0;34m\u001b[0m\u001b[0m\n",
      "\u001b[0;32m/Users/admin/anaconda/lib/python2.7/site-packages/yt/analysis_modules/level_sets/clump_handling.pyc\u001b[0m in \u001b[0;36mfind_children\u001b[0;34m(self, min_val, max_val)\u001b[0m\n\u001b[1;32m    158\u001b[0m         \u001b[0mself\u001b[0m\u001b[0;34m.\u001b[0m\u001b[0mchildren\u001b[0m \u001b[0;34m=\u001b[0m \u001b[0;34m[\u001b[0m\u001b[0;34m]\u001b[0m\u001b[0;34m\u001b[0m\u001b[0m\n\u001b[1;32m    159\u001b[0m         \u001b[0;32mif\u001b[0m \u001b[0mmax_val\u001b[0m \u001b[0;32mis\u001b[0m \u001b[0mNone\u001b[0m\u001b[0;34m:\u001b[0m \u001b[0mmax_val\u001b[0m \u001b[0;34m=\u001b[0m \u001b[0mself\u001b[0m\u001b[0;34m.\u001b[0m\u001b[0mmax_val\u001b[0m\u001b[0;34m\u001b[0m\u001b[0m\n\u001b[0;32m--> 160\u001b[0;31m         \u001b[0mnj\u001b[0m\u001b[0;34m,\u001b[0m \u001b[0mcids\u001b[0m \u001b[0;34m=\u001b[0m \u001b[0midentify_contours\u001b[0m\u001b[0;34m(\u001b[0m\u001b[0mself\u001b[0m\u001b[0;34m.\u001b[0m\u001b[0mdata\u001b[0m\u001b[0;34m,\u001b[0m \u001b[0mself\u001b[0m\u001b[0;34m.\u001b[0m\u001b[0mfield\u001b[0m\u001b[0;34m,\u001b[0m \u001b[0mmin_val\u001b[0m\u001b[0;34m,\u001b[0m \u001b[0mmax_val\u001b[0m\u001b[0;34m)\u001b[0m\u001b[0;34m\u001b[0m\u001b[0m\n\u001b[0m\u001b[1;32m    161\u001b[0m         \u001b[0;31m# Here, cids is the set of slices and values, keyed by the\u001b[0m\u001b[0;34m\u001b[0m\u001b[0;34m\u001b[0m\u001b[0m\n\u001b[1;32m    162\u001b[0m         \u001b[0;31m# parent_grid_id, that defines the contours.  So we can figure out all\u001b[0m\u001b[0;34m\u001b[0m\u001b[0;34m\u001b[0m\u001b[0m\n",
      "\u001b[0;32m/Users/admin/anaconda/lib/python2.7/site-packages/yt/analysis_modules/level_sets/contour_finder.pyc\u001b[0m in \u001b[0;36midentify_contours\u001b[0;34m(data_source, field, min_val, max_val, cached_fields)\u001b[0m\n\u001b[1;32m     34\u001b[0m     \u001b[0mDLE\u001b[0m \u001b[0;34m=\u001b[0m \u001b[0mdata_source\u001b[0m\u001b[0;34m.\u001b[0m\u001b[0mds\u001b[0m\u001b[0;34m.\u001b[0m\u001b[0mdomain_left_edge\u001b[0m\u001b[0;34m\u001b[0m\u001b[0m\n\u001b[1;32m     35\u001b[0m     \u001b[0mmasks\u001b[0m \u001b[0;34m=\u001b[0m \u001b[0mdict\u001b[0m\u001b[0;34m(\u001b[0m\u001b[0;34m(\u001b[0m\u001b[0mg\u001b[0m\u001b[0;34m.\u001b[0m\u001b[0mid\u001b[0m\u001b[0;34m,\u001b[0m \u001b[0mm\u001b[0m\u001b[0;34m)\u001b[0m \u001b[0;32mfor\u001b[0m \u001b[0mg\u001b[0m\u001b[0;34m,\u001b[0m \u001b[0mm\u001b[0m \u001b[0;32min\u001b[0m \u001b[0mdata_source\u001b[0m\u001b[0;34m.\u001b[0m\u001b[0mblocks\u001b[0m\u001b[0;34m)\u001b[0m\u001b[0;34m\u001b[0m\u001b[0m\n\u001b[0;32m---> 36\u001b[0;31m     \u001b[0;32mfor\u001b[0m \u001b[0;34m(\u001b[0m\u001b[0mg\u001b[0m\u001b[0;34m,\u001b[0m \u001b[0mnode\u001b[0m\u001b[0;34m,\u001b[0m \u001b[0;34m(\u001b[0m\u001b[0msl\u001b[0m\u001b[0;34m,\u001b[0m \u001b[0mdims\u001b[0m\u001b[0;34m,\u001b[0m \u001b[0mgi\u001b[0m\u001b[0;34m)\u001b[0m\u001b[0;34m)\u001b[0m \u001b[0;32min\u001b[0m \u001b[0mdata_source\u001b[0m\u001b[0;34m.\u001b[0m\u001b[0mtiles\u001b[0m\u001b[0;34m.\u001b[0m\u001b[0mslice_traverse\u001b[0m\u001b[0;34m(\u001b[0m\u001b[0;34m)\u001b[0m\u001b[0;34m:\u001b[0m\u001b[0;34m\u001b[0m\u001b[0m\n\u001b[0m\u001b[1;32m     37\u001b[0m         \u001b[0mnode\u001b[0m\u001b[0;34m.\u001b[0m\u001b[0mnode_ind\u001b[0m \u001b[0;34m=\u001b[0m \u001b[0mlen\u001b[0m\u001b[0;34m(\u001b[0m\u001b[0mnode_ids\u001b[0m\u001b[0;34m)\u001b[0m\u001b[0;34m\u001b[0m\u001b[0m\n\u001b[1;32m     38\u001b[0m         \u001b[0mnid\u001b[0m \u001b[0;34m=\u001b[0m \u001b[0mnode\u001b[0m\u001b[0;34m.\u001b[0m\u001b[0mnode_id\u001b[0m\u001b[0;34m\u001b[0m\u001b[0m\n",
      "\u001b[0;32m/Users/admin/anaconda/lib/python2.7/site-packages/yt/data_objects/data_containers.pyc\u001b[0m in \u001b[0;36mtiles\u001b[0;34m(self)\u001b[0m\n\u001b[1;32m   1158\u001b[0m     \u001b[0;32mdef\u001b[0m \u001b[0mtiles\u001b[0m\u001b[0;34m(\u001b[0m\u001b[0mself\u001b[0m\u001b[0;34m)\u001b[0m\u001b[0;34m:\u001b[0m\u001b[0;34m\u001b[0m\u001b[0m\n\u001b[1;32m   1159\u001b[0m         \u001b[0;32mif\u001b[0m \u001b[0mself\u001b[0m\u001b[0;34m.\u001b[0m\u001b[0m_tree\u001b[0m \u001b[0;32mis\u001b[0m \u001b[0;32mnot\u001b[0m \u001b[0mNone\u001b[0m\u001b[0;34m:\u001b[0m \u001b[0;32mreturn\u001b[0m \u001b[0mself\u001b[0m\u001b[0;34m.\u001b[0m\u001b[0m_tree\u001b[0m\u001b[0;34m\u001b[0m\u001b[0m\n\u001b[0;32m-> 1160\u001b[0;31m         \u001b[0mself\u001b[0m\u001b[0;34m.\u001b[0m\u001b[0m_tree\u001b[0m \u001b[0;34m=\u001b[0m \u001b[0mAMRKDTree\u001b[0m\u001b[0;34m(\u001b[0m\u001b[0mself\u001b[0m\u001b[0;34m.\u001b[0m\u001b[0mds\u001b[0m\u001b[0;34m,\u001b[0m \u001b[0mdata_source\u001b[0m\u001b[0;34m=\u001b[0m\u001b[0mself\u001b[0m\u001b[0;34m)\u001b[0m\u001b[0;34m\u001b[0m\u001b[0m\n\u001b[0m\u001b[1;32m   1161\u001b[0m         \u001b[0;32mreturn\u001b[0m \u001b[0mself\u001b[0m\u001b[0;34m.\u001b[0m\u001b[0m_tree\u001b[0m\u001b[0;34m\u001b[0m\u001b[0m\n\u001b[1;32m   1162\u001b[0m \u001b[0;34m\u001b[0m\u001b[0m\n",
      "\u001b[0;32m/Users/admin/anaconda/lib/python2.7/site-packages/yt/utilities/amr_kdtree/amr_kdtree.pyc\u001b[0m in \u001b[0;36m__init__\u001b[0;34m(self, ds, min_level, max_level, data_source)\u001b[0m\n\u001b[1;32m    155\u001b[0m \u001b[0;34m\u001b[0m\u001b[0m\n\u001b[1;32m    156\u001b[0m         \u001b[0;32mif\u001b[0m \u001b[0;32mnot\u001b[0m \u001b[0missubclass\u001b[0m\u001b[0;34m(\u001b[0m\u001b[0mds\u001b[0m\u001b[0;34m.\u001b[0m\u001b[0mindex\u001b[0m\u001b[0;34m.\u001b[0m\u001b[0m__class__\u001b[0m\u001b[0;34m,\u001b[0m \u001b[0mGridIndex\u001b[0m\u001b[0;34m)\u001b[0m\u001b[0;34m:\u001b[0m\u001b[0;34m\u001b[0m\u001b[0m\n\u001b[0;32m--> 157\u001b[0;31m             \u001b[0;32mraise\u001b[0m \u001b[0mRuntimeError\u001b[0m\u001b[0;34m(\u001b[0m\u001b[0;34m\"AMRKDTree does not support particle or octree-based data.\"\u001b[0m\u001b[0;34m)\u001b[0m\u001b[0;34m\u001b[0m\u001b[0m\n\u001b[0m\u001b[1;32m    158\u001b[0m \u001b[0;34m\u001b[0m\u001b[0m\n\u001b[1;32m    159\u001b[0m         \u001b[0mParallelAnalysisInterface\u001b[0m\u001b[0;34m.\u001b[0m\u001b[0m__init__\u001b[0m\u001b[0;34m(\u001b[0m\u001b[0mself\u001b[0m\u001b[0;34m)\u001b[0m\u001b[0;34m\u001b[0m\u001b[0m\n",
      "\u001b[0;31mRuntimeError\u001b[0m: AMRKDTree does not support particle or octree-based data."
     ]
    }
   ],
   "source": [
    "from yt.analysis_modules.level_sets.api import Clump, find_clumps, get_lowest_clumps\n",
    "    \n",
    "data_source = ds.disk(center, up_vector, region_size, (far_cut_depth + distance))\n",
    "\n",
    "c_min = 10**np.floor(np.log10(data_source['density']).min()  )\n",
    "c_max = 10**np.floor(np.log10(data_source['density']).max()+1)\n",
    "\n",
    "master_clump = Clump(data_source, 'density')\n",
    "master_clump.add_validator(\"min_cells\", 20)\n",
    "\n",
    "find_clumps(master_clump, c_min, c_max, 2.0)\n",
    "leaf_clumps = get_lowest_clumps(master_clump)\n",
    "\n"
   ]
  },
  {
   "cell_type": "code",
   "execution_count": null,
   "metadata": {
    "collapsed": true
   },
   "outputs": [],
   "source": [
    "prj = yt.ProjectionPlot(ds, 'z', 'density', center='c', width=(20, 'kpc'))\n",
    "prj.annotate_clumps(leaf_clumps)\n",
    "prj.save('clumps')"
   ]
  }
 ],
 "metadata": {
  "kernelspec": {
   "display_name": "Python 2",
   "language": "python",
   "name": "python2"
  },
  "language_info": {
   "codemirror_mode": {
    "name": "ipython",
    "version": 2
   },
   "file_extension": ".py",
   "mimetype": "text/x-python",
   "name": "python",
   "nbconvert_exporter": "python",
   "pygments_lexer": "ipython2",
   "version": "2.7.12"
  }
 },
 "nbformat": 4,
 "nbformat_minor": 0
}
