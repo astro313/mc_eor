{
 "cells": [
  {
   "cell_type": "markdown",
   "metadata": {},
   "source": [
    "### Compare yt load versus pymses load w/ fields specified"
   ]
  },
  {
   "cell_type": "code",
   "execution_count": 1,
   "metadata": {
    "collapsed": false
   },
   "outputs": [
    {
     "name": "stdout",
     "output_type": "stream",
     "text": [
      "WARNING : Can't import tables module...\n",
      "WARNING : Can't import tables module...\n",
      "WARNING : Can't import tables module...\n",
      "WARNING : Can't import tables module...\n",
      "WARNING : Can't import Image module...\n",
      "amrviewer GUI ImportError : are WxPython and PyTables correctly installed?\n"
     ]
    }
   ],
   "source": [
    "import yt\n",
    "import pymses\n",
    "from pymses.sources.ramses import output\n",
    "\n",
    "pymses.RamsesOutput.amr_field_descrs_by_file = \\\n",
    "   {\"2D\": {\"hydro\" : [ output.Scalar(\"rho\", 0), output.Vector(\"vel\", [1, 2, 3]),\n",
    "           output.Vector(\"Bl\", [4,5,6]), output.Vector(\"Br\", [7,8,9]),\n",
    "           output.Scalar(\"P\", 10),output.Scalar(\"Z\", 11)], \n",
    "            \"grav\"  : [ output.Vector(\"g\", [0, 1, 2]) ]},\n",
    "   \"3D\": {\"hydro\" : [ output.Scalar(\"rho\", 0), output.Vector(\"vel\", [1, 2, 3]),\n",
    "                      output.Scalar(\"P_nt\", 4), output.Scalar(\"P\", 5),\n",
    "                     # P is the thermal pressure, out of which you can calculate the temperature (T \\propto P/rho)\n",
    "                     # P_nt is the non-thermal (turbulent) component\n",
    "                      output.Scalar(\"Z\", 6), \n",
    "                      output.Scalar(\"H\",8), \n",
    "                      output.Scalar(\"E\",9), \n",
    "                      output.Scalar(\"H+\",10), \n",
    "                      output.Scalar(\"HE\", 11), \n",
    "                      output.Scalar(\"HE+\",12), \n",
    "                      output.Scalar(\"HE++\", 13), \n",
    "                      output.Scalar(\"H-\", 14), \n",
    "                      output.Scalar(\"H2\", 15), \n",
    "                      output.Scalar(\"H2+\", 16)],\n",
    "       \"grav\"  : [ output.Vector(\"g\", [0, 1, 2]) ]}}"
   ]
  },
  {
   "cell_type": "code",
   "execution_count": 21,
   "metadata": {
    "collapsed": false
   },
   "outputs": [
    {
     "name": "stderr",
     "output_type": "stream",
     "text": [
      "yt : [INFO     ] 2018-07-05 09:33:57,493 Parameters: current_time              = 3.17276944493\n",
      "yt : [INFO     ] 2018-07-05 09:33:57,494 Parameters: domain_dimensions         = [256 256 256]\n",
      "yt : [INFO     ] 2018-07-05 09:33:57,495 Parameters: domain_left_edge          = [ 0.  0.  0.]\n",
      "yt : [INFO     ] 2018-07-05 09:33:57,496 Parameters: domain_right_edge         = [ 1.  1.  1.]\n",
      "yt : [INFO     ] 2018-07-05 09:33:57,497 Parameters: cosmological_simulation   = 1\n",
      "yt : [INFO     ] 2018-07-05 09:33:57,498 Parameters: current_redshift          = 5.99989573953\n",
      "yt : [INFO     ] 2018-07-05 09:33:57,498 Parameters: omega_lambda              = 0.691999971867\n",
      "yt : [INFO     ] 2018-07-05 09:33:57,499 Parameters: omega_matter              = 0.307999998331\n",
      "yt : [INFO     ] 2018-07-05 09:33:57,499 Parameters: hubble_constant           = 0.677900009155\n"
     ]
    },
    {
     "name": "stdout",
     "output_type": "stream",
     "text": [
      "Computing hilbert minimal domain description for output 28 ...\n",
      "Done !\n",
      "Warning : 17 variables found - Using default value for pymses_field_descrs.py because  [Errno 2] No such file or directory: './pymses_field_descrs.py'\n"
     ]
    }
   ],
   "source": [
    "# pymses\n",
    "ro = pymses.RamsesOutput(\"output\", 28)\n",
    "amr = ro.amr_source([\"rho\", \"H2\"])\n",
    "\n",
    "# yt\n",
    "_ds  =  yt.load(\"output/output_00028/info_00028.txt\", \\\n",
    "          fields = [\"Density\",\"x-velocity\", \"y-velocity\", \"z-velocity\", \"Pressure_nt\", \\\n",
    "                    \"Pressure\", \"Z\", \"H\", \"E\", \"H+\", \"HE\", \"HE+\", \"HE++\", \"H-\", \"H2\", \"H2+\"])"
   ]
  },
  {
   "cell_type": "code",
   "execution_count": 22,
   "metadata": {
    "collapsed": false
   },
   "outputs": [],
   "source": [
    "#pymses\n",
    "center = [0.5, 0.5, 0.5]\n",
    "radius = 0.1\n",
    "\n",
    "from pymses.utils.regions import Sphere \n",
    "sph = Sphere(center, radius)\n",
    "\n",
    "from pymses.filters import RegionFilter \n",
    "point_dset = RegionFilter(sph, amr)\n",
    "\n",
    "import matplotlib.pyplot as plt\n",
    "% matplotlib inline"
   ]
  },
  {
   "cell_type": "code",
   "execution_count": 23,
   "metadata": {
    "collapsed": false
   },
   "outputs": [
    {
     "name": "stdout",
     "output_type": "stream",
     "text": [
      "Read and filter time : 7.15 s\n",
      "Reading amr data  : output/output_00028/amr_00028.out00001\n",
      "Reading amr data  : output/output_00028/amr_00028.out00002\n",
      "Reading amr data  : output/output_00028/amr_00028.out00003\n",
      "Reading amr data  : output/output_00028/amr_00028.out00004\n",
      "Reading hydro     : output/output_00028/hydro_00028.out00001Reading hydro     : output/output_00028/hydro_00028.out00002Reading hydro     : output/output_00028/hydro_00028.out00003Reading hydro     : output/output_00028/hydro_00028.out00004\n",
      "\n",
      "\n",
      "\n",
      "Reading amr data  : output/output_00028/amr_00028.out00006Reading amr data  : output/output_00028/amr_00028.out00005Reading amr data  : output/output_00028/amr_00028.out00007Reading amr data  : output/output_00028/amr_00028.out00009\n",
      "\n",
      "\n",
      "\n",
      "Reading hydro     : output/output_00028/hydro_00028.out00006Reading hydro     : output/output_00028/hydro_00028.out00005Reading hydro     : output/output_00028/hydro_00028.out00007Reading hydro     : output/output_00028/hydro_00028.out00009\n",
      "\n",
      "\n",
      "\n",
      "Reading amr data  : output/output_00028/amr_00028.out00011Reading amr data  : output/output_00028/amr_00028.out00010Reading amr data  : output/output_00028/amr_00028.out00008Reading amr data  : output/output_00028/amr_00028.out00012\n",
      "\n",
      "\n",
      "\n",
      "Reading hydro     : output/output_00028/hydro_00028.out00011Reading hydro     : output/output_00028/hydro_00028.out00010Reading hydro     : output/output_00028/hydro_00028.out00008Reading hydro     : output/output_00028/hydro_00028.out00012\n",
      "\n",
      "\n",
      "\n",
      "Reading amr data  : output/output_00028/amr_00028.out00013Reading amr data  : output/output_00028/amr_00028.out00015Reading amr data  : output/output_00028/amr_00028.out00014Reading amr data  : output/output_00028/amr_00028.out00019\n",
      "\n",
      "\n",
      "\n",
      "Reading hydro     : output/output_00028/hydro_00028.out00013Reading hydro     : output/output_00028/hydro_00028.out00015Reading hydro     : output/output_00028/hydro_00028.out00014Reading hydro     : output/output_00028/hydro_00028.out00019\n",
      "\n",
      "\n",
      "\n",
      "Reading amr data  : output/output_00028/amr_00028.out00016Reading amr data  : output/output_00028/amr_00028.out00017Reading amr data  : output/output_00028/amr_00028.out00020\n",
      "\n",
      "\n",
      "Reading hydro     : output/output_00028/hydro_00028.out00016\n",
      "Reading hydro     : output/output_00028/hydro_00028.out00017Reading hydro     : output/output_00028/hydro_00028.out00020Reading amr data  : output/output_00028/amr_00028.out00018\n",
      "\n",
      "\n",
      "Reading hydro     : output/output_00028/hydro_00028.out00018\n"
     ]
    },
    {
     "name": "stderr",
     "output_type": "stream",
     "text": [
      "/Users/admin/Research/pymses_4.0.0/pymses/sources/ramses/octree.py:362: FutureWarning: comparison to `None` will result in an elementwise object comparison in the future.\n",
      "  if self.active_mask == None:\n",
      "/Users/admin/Research/pymses_4.0.0/pymses/sources/ramses/octree.py:362: FutureWarning: comparison to `None` will result in an elementwise object comparison in the future.\n",
      "  if self.active_mask == None:\n",
      "/Users/admin/Research/pymses_4.0.0/pymses/sources/ramses/octree.py:362: FutureWarning: comparison to `None` will result in an elementwise object comparison in the future.\n",
      "  if self.active_mask == None:\n",
      "/Users/admin/Research/pymses_4.0.0/pymses/sources/ramses/octree.py:362: FutureWarning: comparison to `None` will result in an elementwise object comparison in the future.\n",
      "  if self.active_mask == None:\n"
     ]
    }
   ],
   "source": [
    "from pymses.filters import RegionFilter, CellsToPoints\n",
    "\n",
    "amr_cell = CellsToPoints(point_dset).flatten()"
   ]
  },
  {
   "cell_type": "code",
   "execution_count": 24,
   "metadata": {
    "collapsed": false
   },
   "outputs": [
    {
     "data": {
      "text/plain": [
       "array([  2.67996469e-18,   2.15683243e-18,   2.85225071e-18, ...,\n",
       "         9.71922947e-10,   9.71922947e-10,   9.71922947e-10])"
      ]
     },
     "execution_count": 24,
     "metadata": {},
     "output_type": "execute_result"
    }
   ],
   "source": [
    "amr_cell['H2']"
   ]
  },
  {
   "cell_type": "code",
   "execution_count": 25,
   "metadata": {
    "collapsed": false
   },
   "outputs": [
    {
     "data": {
      "image/png": "[encoded data removed]",
      "text/plain": [
       "<Figure size 600x400 with 1 Axes>"
      ]
     },
     "metadata": {},
     "output_type": "display_data"
    }
   ],
   "source": [
    "plt.hist(amr_cell['H2'] * amr_cell['rho'])\n",
    "plt.show();"
   ]
  },
  {
   "cell_type": "code",
   "execution_count": 28,
   "metadata": {
    "collapsed": false
   },
   "outputs": [],
   "source": [
    "# yt\n",
    "sp = _ds.sphere(center, radius)\n",
    "\n",
    "yt_cell = sp['Density'] * sp['H2'] \n"
   ]
  },
  {
   "cell_type": "code",
   "execution_count": 29,
   "metadata": {
    "collapsed": false
   },
   "outputs": [
    {
     "data": {
      "text/plain": [
       "YTArray([  1.29596722e-16,   5.30074606e-19,   9.15135511e-06, ...,\n",
       "         1.06293127e-04,   1.45830292e-16,   4.64095129e-39]) code_density"
      ]
     },
     "execution_count": 29,
     "metadata": {},
     "output_type": "execute_result"
    }
   ],
   "source": [
    "yt_cell"
   ]
  },
  {
   "cell_type": "code",
   "execution_count": 32,
   "metadata": {
    "collapsed": false
   },
   "outputs": [],
   "source": [
    "yt_cell = yt_cell.flatten()"
   ]
  },
  {
   "cell_type": "code",
   "execution_count": 37,
   "metadata": {
    "collapsed": false
   },
   "outputs": [],
   "source": [
    "import numpy as np\n",
    "yt_cell = np.array(yt_cell)"
   ]
  },
  {
   "cell_type": "code",
   "execution_count": 38,
   "metadata": {
    "collapsed": false
   },
   "outputs": [
    {
     "data": {
      "image/png": "[encoded data removed]",
      "text/plain": [
       "<Figure size 600x400 with 1 Axes>"
      ]
     },
     "metadata": {},
     "output_type": "display_data"
    }
   ],
   "source": [
    "plt.hist(yt_cell)\n",
    "plt.show();"
   ]
  },
  {
   "cell_type": "code",
   "execution_count": 40,
   "metadata": {
    "collapsed": false
   },
   "outputs": [
    {
     "name": "stdout",
     "output_type": "stream",
     "text": [
      "0.0 0.752173658774\n",
      "0.0 246430.753196\n"
     ]
    }
   ],
   "source": [
    "print yt_cell.min(), yt_cell.max()\n",
    "\n",
    "amr_cell_h2 = amr_cell['H2'] * amr_cell['rho']\n",
    "print amr_cell_h2.min(), amr_cell_h2.max()\n"
   ]
  },
  {
   "cell_type": "code",
   "execution_count": 41,
   "metadata": {
    "collapsed": false
   },
   "outputs": [
    {
     "name": "stdout",
     "output_type": "stream",
     "text": [
      "0.0 dimensionless 0.999999999996 dimensionless\n",
      "0.0 code_density 10441876.8956 code_density\n"
     ]
    }
   ],
   "source": [
    "print sp['H2'].min(),  sp['H2'].max()\n",
    "print sp['Density'].min(), sp['Density'].max()"
   ]
  },
  {
   "cell_type": "markdown",
   "metadata": {},
   "source": [
    "### Q: rho * H2 from yt and pymses are not identical?"
   ]
  },
  {
   "cell_type": "code",
   "execution_count": 42,
   "metadata": {
    "collapsed": false
   },
   "outputs": [
    {
     "name": "stdout",
     "output_type": "stream",
     "text": [
      "3.19422100876e-28 code_density 0.000745444860171 code_density\n"
     ]
    }
   ],
   "source": [
    "# maybe because radius is in different units in yt and pymses sphere object? what if I specify the units?\n",
    "\n",
    "sp = _ds.sphere(center, (radius, 'kpc'))\n",
    "\n",
    "yt_cell = sp['Density'] * sp['H2'] \n",
    "\n",
    "print yt_cell.min(), yt_cell.max()"
   ]
  },
  {
   "cell_type": "code",
   "execution_count": 43,
   "metadata": {
    "collapsed": false
   },
   "outputs": [
    {
     "data": {
      "text/plain": [
       "(1.29814589144e+23 m)"
      ]
     },
     "execution_count": 43,
     "metadata": {},
     "output_type": "execute_result"
    }
   ],
   "source": [
    "ro.info['unit_length']"
   ]
  },
  {
   "cell_type": "code",
   "execution_count": 45,
   "metadata": {
    "collapsed": false
   },
   "outputs": [],
   "source": [
    "m2kpc = 3.24078e-20  "
   ]
  },
  {
   "cell_type": "code",
   "execution_count": 50,
   "metadata": {
    "collapsed": false
   },
   "outputs": [
    {
     "name": "stdout",
     "output_type": "stream",
     "text": [
      "4207.00511246\n"
     ]
    }
   ],
   "source": [
    "from pymses.utils import constants as C\n",
    "print ro.info['unit_length'].express(C.kpc)   # kpc"
   ]
  },
  {
   "cell_type": "code",
   "execution_count": 51,
   "metadata": {
    "collapsed": true
   },
   "outputs": [],
   "source": [
    "rr = 1./ro.info['unit_length'].express(C.kpc) \n",
    "\n",
    "sph = Sphere(center, rr)   # try to express 1kpc in code unit\n",
    "point_dset = RegionFilter(sph, amr)"
   ]
  },
  {
   "cell_type": "code",
   "execution_count": 54,
   "metadata": {
    "collapsed": false
   },
   "outputs": [
    {
     "name": "stdout",
     "output_type": "stream",
     "text": [
      "Read and filter time : 1.11 s\n",
      "[]\n",
      "Reading amr data  : output/output_00028/amr_00028.out00001\n",
      "Reading amr data  : output/output_00028/amr_00028.out00003\n",
      "Reading amr data  : output/output_00028/amr_00028.out00002\n",
      "Reading amr data  : output/output_00028/amr_00028.out00005\n",
      "Reading hydro     : output/output_00028/hydro_00028.out00001Reading hydro     : output/output_00028/hydro_00028.out00003Reading hydro     : output/output_00028/hydro_00028.out00002Reading hydro     : output/output_00028/hydro_00028.out00005\n",
      "\n",
      "\n",
      "\n",
      "Reading amr data  : output/output_00028/amr_00028.out00018Reading amr data  : output/output_00028/amr_00028.out00020Reading amr data  : output/output_00028/amr_00028.out00017\n",
      "\n",
      "\n",
      "Reading hydro     : output/output_00028/hydro_00028.out00018Reading hydro     : output/output_00028/hydro_00028.out00017Reading hydro     : output/output_00028/hydro_00028.out00020\n",
      "\n",
      "\n"
     ]
    },
    {
     "name": "stderr",
     "output_type": "stream",
     "text": [
      "/Users/admin/Research/pymses_4.0.0/pymses/sources/ramses/octree.py:362: FutureWarning: comparison to `None` will result in an elementwise object comparison in the future.\n",
      "  if self.active_mask == None:\n",
      "/Users/admin/Research/pymses_4.0.0/pymses/sources/ramses/octree.py:362: FutureWarning: comparison to `None` will result in an elementwise object comparison in the future.\n",
      "  if self.active_mask == None:\n",
      "/Users/admin/Research/pymses_4.0.0/pymses/sources/ramses/octree.py:362: FutureWarning: comparison to `None` will result in an elementwise object comparison in the future.\n",
      "  if self.active_mask == None:\n",
      "/Users/admin/Research/pymses_4.0.0/pymses/sources/ramses/octree.py:362: FutureWarning: comparison to `None` will result in an elementwise object comparison in the future.\n",
      "  if self.active_mask == None:\n"
     ]
    }
   ],
   "source": [
    "amr_cell = CellsToPoints(point_dset).flatten()\n",
    "amr_cell_h2 = amr_cell['H2'] * amr_cell['rho']\n",
    "print amr_cell_h2\n"
   ]
  },
  {
   "cell_type": "code",
   "execution_count": 55,
   "metadata": {
    "collapsed": false
   },
   "outputs": [
    {
     "ename": "ValueError",
     "evalue": "zero-size array to reduction operation minimum which has no identity",
     "output_type": "error",
     "traceback": [
      "\u001b[0;31m---------------------------------------------------------------------------\u001b[0m",
      "\u001b[0;31mValueError\u001b[0m                                Traceback (most recent call last)",
      "\u001b[0;32m<ipython-input-55-e2f9594f2128>\u001b[0m in \u001b[0;36m<module>\u001b[0;34m()\u001b[0m\n\u001b[0;32m----> 1\u001b[0;31m \u001b[0;32mprint\u001b[0m \u001b[0mamr_cell_h2\u001b[0m\u001b[0;34m.\u001b[0m\u001b[0mmin\u001b[0m\u001b[0;34m(\u001b[0m\u001b[0;34m)\u001b[0m\u001b[0;34m,\u001b[0m \u001b[0mamr_cell_h2\u001b[0m\u001b[0;34m.\u001b[0m\u001b[0mmax\u001b[0m\u001b[0;34m(\u001b[0m\u001b[0;34m)\u001b[0m\u001b[0;34m\u001b[0m\u001b[0m\n\u001b[0m",
      "\u001b[0;32m/Users/admin/anaconda/lib/python2.7/site-packages/numpy/core/_methods.pyc\u001b[0m in \u001b[0;36m_amin\u001b[0;34m(a, axis, out, keepdims)\u001b[0m\n\u001b[1;32m     27\u001b[0m \u001b[0;34m\u001b[0m\u001b[0m\n\u001b[1;32m     28\u001b[0m \u001b[0;32mdef\u001b[0m \u001b[0m_amin\u001b[0m\u001b[0;34m(\u001b[0m\u001b[0ma\u001b[0m\u001b[0;34m,\u001b[0m \u001b[0maxis\u001b[0m\u001b[0;34m=\u001b[0m\u001b[0mNone\u001b[0m\u001b[0;34m,\u001b[0m \u001b[0mout\u001b[0m\u001b[0;34m=\u001b[0m\u001b[0mNone\u001b[0m\u001b[0;34m,\u001b[0m \u001b[0mkeepdims\u001b[0m\u001b[0;34m=\u001b[0m\u001b[0mFalse\u001b[0m\u001b[0;34m)\u001b[0m\u001b[0;34m:\u001b[0m\u001b[0;34m\u001b[0m\u001b[0m\n\u001b[0;32m---> 29\u001b[0;31m     \u001b[0;32mreturn\u001b[0m \u001b[0mumr_minimum\u001b[0m\u001b[0;34m(\u001b[0m\u001b[0ma\u001b[0m\u001b[0;34m,\u001b[0m \u001b[0maxis\u001b[0m\u001b[0;34m,\u001b[0m \u001b[0mNone\u001b[0m\u001b[0;34m,\u001b[0m \u001b[0mout\u001b[0m\u001b[0;34m,\u001b[0m \u001b[0mkeepdims\u001b[0m\u001b[0;34m)\u001b[0m\u001b[0;34m\u001b[0m\u001b[0m\n\u001b[0m\u001b[1;32m     30\u001b[0m \u001b[0;34m\u001b[0m\u001b[0m\n\u001b[1;32m     31\u001b[0m \u001b[0;32mdef\u001b[0m \u001b[0m_sum\u001b[0m\u001b[0;34m(\u001b[0m\u001b[0ma\u001b[0m\u001b[0;34m,\u001b[0m \u001b[0maxis\u001b[0m\u001b[0;34m=\u001b[0m\u001b[0mNone\u001b[0m\u001b[0;34m,\u001b[0m \u001b[0mdtype\u001b[0m\u001b[0;34m=\u001b[0m\u001b[0mNone\u001b[0m\u001b[0;34m,\u001b[0m \u001b[0mout\u001b[0m\u001b[0;34m=\u001b[0m\u001b[0mNone\u001b[0m\u001b[0;34m,\u001b[0m \u001b[0mkeepdims\u001b[0m\u001b[0;34m=\u001b[0m\u001b[0mFalse\u001b[0m\u001b[0;34m)\u001b[0m\u001b[0;34m:\u001b[0m\u001b[0;34m\u001b[0m\u001b[0m\n",
      "\u001b[0;31mValueError\u001b[0m: zero-size array to reduction operation minimum which has no identity"
     ]
    }
   ],
   "source": [
    "print amr_cell_h2.min(), amr_cell_h2.max()"
   ]
  },
  {
   "cell_type": "markdown",
   "metadata": {},
   "source": [
    "### Q: Not sure how to proceed to comparison..."
   ]
  },
  {
   "cell_type": "code",
   "execution_count": null,
   "metadata": {
    "collapsed": true
   },
   "outputs": [],
   "source": []
  }
 ],
 "metadata": {
  "kernelspec": {
   "display_name": "Python 2",
   "language": "python",
   "name": "python2"
  },
  "language_info": {
   "codemirror_mode": {
    "name": "ipython",
    "version": 2
   },
   "file_extension": ".py",
   "mimetype": "text/x-python",
   "name": "python",
   "nbconvert_exporter": "python",
   "pygments_lexer": "ipython2",
   "version": "2.7.12"
  }
 },
 "nbformat": 4,
 "nbformat_minor": 0
}
